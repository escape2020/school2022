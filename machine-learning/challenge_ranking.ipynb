{
 "cells": [
  {
   "cell_type": "code",
   "execution_count": null,
   "id": "59d7b12e-df49-4398-9597-32dabd4acdde",
   "metadata": {},
   "outputs": [],
   "source": [
    "%load_ext autoreload\n",
    "%autoreload 2"
   ]
  },
  {
   "cell_type": "code",
   "execution_count": null,
   "id": "ce83b3ed-aa69-4680-b53b-cf741d1b3a16",
   "metadata": {},
   "outputs": [],
   "source": [
    "import ml_func as ml\n",
    "import warnings\n",
    "warnings.filterwarnings('ignore')"
   ]
  },
  {
   "cell_type": "code",
   "execution_count": null,
   "id": "c4a04bfa-991f-41fa-a6bd-c9c8512f0c2f",
   "metadata": {},
   "outputs": [],
   "source": [
    "rank = ml.ranking('../school2022-mlctapred/')\n",
    "rank"
   ]
  },
  {
   "cell_type": "code",
   "execution_count": null,
   "id": "6f636fcb-40d9-4fcb-b723-261a94613110",
   "metadata": {},
   "outputs": [],
   "source": [
    "# Best at classification\n",
    "rank.sort_values(by='acc',  ascending=False)"
   ]
  },
  {
   "cell_type": "code",
   "execution_count": null,
   "id": "ab05b17e-3c6f-4adb-8073-916022d0d83f",
   "metadata": {},
   "outputs": [],
   "source": [
    "# Best at regression\n",
    "rank.sort_values(by='mse',  ascending=True)"
   ]
  },
  {
   "cell_type": "code",
   "execution_count": null,
   "id": "830babb0-6031-45ec-8f63-27b1ff51115d",
   "metadata": {},
   "outputs": [],
   "source": []
  }
 ],
 "metadata": {
  "kernelspec": {
   "display_name": "eschool2022",
   "language": "python",
   "name": "eschool2022"
  },
  "language_info": {
   "codemirror_mode": {
    "name": "ipython",
    "version": 3
   },
   "file_extension": ".py",
   "mimetype": "text/x-python",
   "name": "python",
   "nbconvert_exporter": "python",
   "pygments_lexer": "ipython3",
   "version": "3.10.5"
  }
 },
 "nbformat": 4,
 "nbformat_minor": 5
}
