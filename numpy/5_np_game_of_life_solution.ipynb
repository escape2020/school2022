{
 "cells": [
  {
   "cell_type": "markdown",
   "id": "251bf9ec",
   "metadata": {
    "slideshow": {
     "slide_type": "slide"
    }
   },
   "source": [
    "# Conway's Game of Life in NumPy\n",
    "\n",
    "\n",
    "Tamás Gál (tamas.gal@fau.de)\n",
    "\n",
    "The latest version of this notebook is available at [https://github.com/escape2020/school2022](https://github.com/escape2020/school2022) The implementation in this notebook is inspired by Nicolas Rougier."
   ]
  },
  {
   "cell_type": "markdown",
   "id": "c8df67fe",
   "metadata": {
    "slideshow": {
     "slide_type": "fragment"
    }
   },
   "source": [
    "![ConwaysGameOfLife](https://conwaylife.com/w/images/0/0d/Conwaylife.gif)"
   ]
  },
  {
   "cell_type": "markdown",
   "id": "655c876a",
   "metadata": {
    "slideshow": {
     "slide_type": "subslide"
    }
   },
   "source": [
    "[Conway's Game of Life](\n",
    "https://conwaylife.com/wiki/Conway%27s_Game_of_Life) is a zero-player game and a lot of fun. It's all about birth, death and survival. The game consists of a 2-dimensional board and starts with a random state. The next generation (frame) is calculated using the following four rules:\n",
    "\n",
    "1. Any live cell with fewer than two live neighbours dies (referred to as underpopulation or exposure[1]).\n",
    "2. Any live cell with more than three live neighbours dies (referred to as overpopulation or overcrowding).\n",
    "3. Any live cell with two or three live neighbours lives, unchanged, to the next generation.\n",
    "4. Any dead cell with exactly three live neighbours will come to life.\n",
    "\n",
    "Start with a small board, e.g. `5x5` using `NumPy`:\n",
    "\n",
    "    rng = np.random.default_rng(62)\n",
    "    G = rng.integers(0, 2, (5,5))\n",
    "    \n",
    "and figure out how to calculate the frame of the next generation. You can use `plt.imshow()` from `Matplotlib` to visualise the board.\n",
    "\n",
    "Bonus: create a function called `iterate(G)` which returns the next generation's frame and try `from matplotlib.animation import FuncAnimation` to create an animation with `Matplotlib`."
   ]
  },
  {
   "cell_type": "code",
   "execution_count": 1,
   "id": "b6ab843f",
   "metadata": {
    "slideshow": {
     "slide_type": "slide"
    }
   },
   "outputs": [
    {
     "name": "stdout",
     "output_type": "stream",
     "text": [
      "Python version:  3.9.12 (main, Mar 26 2022, 15:44:31) \n",
      "[Clang 13.1.6 (clang-1316.0.21.2)]\n",
      "NumPy version:   1.22.4\n"
     ]
    }
   ],
   "source": [
    "import sys\n",
    "import numpy as np\n",
    "import matplotlib.pyplot as plt\n",
    "\n",
    "print(f\"Python version:  {sys.version}\\n\"\n",
    "      f\"NumPy version:   {np.__version__}\")"
   ]
  },
  {
   "cell_type": "markdown",
   "id": "59867ac2",
   "metadata": {
    "slideshow": {
     "slide_type": "slide"
    }
   },
   "source": [
    "### Let's create a small 5x5 board"
   ]
  },
  {
   "cell_type": "code",
   "execution_count": 2,
   "id": "567d474a",
   "metadata": {
    "slideshow": {
     "slide_type": "fragment"
    }
   },
   "outputs": [
    {
     "data": {
      "text/plain": [
       "array([[0, 1, 1, 1, 1],\n",
       "       [1, 0, 0, 0, 1],\n",
       "       [1, 1, 0, 1, 1],\n",
       "       [1, 0, 1, 0, 0],\n",
       "       [0, 1, 1, 0, 0]])"
      ]
     },
     "execution_count": 2,
     "metadata": {},
     "output_type": "execute_result"
    }
   ],
   "source": [
    "rng = np.random.default_rng(62)  # initialise our random number generator\n",
    "\n",
    "G = rng.integers(0, 2, (5,5))\n",
    "G"
   ]
  },
  {
   "cell_type": "markdown",
   "id": "006f5d89",
   "metadata": {
    "slideshow": {
     "slide_type": "fragment"
    }
   },
   "source": [
    "We exploit that the board is has binary elements which can be added together to count the neighbours by shifting it in each of the eight directions.\n",
    "For simplicity, the outer elements are not taken into account and are discarded after the first generation.\n",
    "\n",
    "The following three \"kernels\" represent the top left, top mid and top right sectors, each with the shape `(n-1, n-1)` compared to the original `(n, n)` board."
   ]
  },
  {
   "cell_type": "code",
   "execution_count": 3,
   "id": "3a6d36c8",
   "metadata": {
    "slideshow": {
     "slide_type": "subslide"
    }
   },
   "outputs": [
    {
     "data": {
      "text/plain": [
       "array([[0, 1, 1],\n",
       "       [1, 0, 0],\n",
       "       [1, 1, 0]])"
      ]
     },
     "execution_count": 3,
     "metadata": {},
     "output_type": "execute_result"
    }
   ],
   "source": [
    "G[0:-2,0:-2]  # top left 3x3 section"
   ]
  },
  {
   "cell_type": "code",
   "execution_count": 4,
   "id": "9acc13b9",
   "metadata": {
    "slideshow": {
     "slide_type": "fragment"
    }
   },
   "outputs": [
    {
     "data": {
      "text/plain": [
       "array([[1, 1, 1],\n",
       "       [0, 0, 0],\n",
       "       [1, 0, 1]])"
      ]
     },
     "execution_count": 4,
     "metadata": {},
     "output_type": "execute_result"
    }
   ],
   "source": [
    "G[0:-2,1:-1]  # top mid 3x3 section"
   ]
  },
  {
   "cell_type": "code",
   "execution_count": 5,
   "id": "b2639c47",
   "metadata": {
    "slideshow": {
     "slide_type": "fragment"
    }
   },
   "outputs": [
    {
     "data": {
      "text/plain": [
       "array([[1, 1, 1],\n",
       "       [0, 0, 1],\n",
       "       [0, 1, 1]])"
      ]
     },
     "execution_count": 5,
     "metadata": {},
     "output_type": "execute_result"
    }
   ],
   "source": [
    "G[0:-2,2:]  # top right 3x3 section"
   ]
  },
  {
   "cell_type": "markdown",
   "id": "26d41cff",
   "metadata": {
    "slideshow": {
     "slide_type": "subslide"
    }
   },
   "source": [
    "### Summing them up will result in a board which shows the number of top neighbours for each cell in the middle `3x3` part of the board:"
   ]
  },
  {
   "cell_type": "code",
   "execution_count": 6,
   "id": "6ea4dca3",
   "metadata": {
    "slideshow": {
     "slide_type": "fragment"
    }
   },
   "outputs": [
    {
     "data": {
      "text/plain": [
       "array([[2, 3, 3],\n",
       "       [1, 0, 1],\n",
       "       [2, 2, 2]])"
      ]
     },
     "execution_count": 6,
     "metadata": {},
     "output_type": "execute_result"
    }
   ],
   "source": [
    "G[0:-2,0:-2] + G[0:-2,1:-1] + G[0:-2,2:]  # summing them up to count the top neighbours"
   ]
  },
  {
   "cell_type": "markdown",
   "id": "5220669b",
   "metadata": {
    "slideshow": {
     "slide_type": "fragment"
    }
   },
   "source": [
    "### Let's count all eight possible neighbours:"
   ]
  },
  {
   "cell_type": "code",
   "execution_count": 7,
   "id": "5fd9180c",
   "metadata": {
    "slideshow": {
     "slide_type": "fragment"
    }
   },
   "outputs": [
    {
     "data": {
      "text/plain": [
       "array([[5, 5, 6],\n",
       "       [4, 3, 3],\n",
       "       [6, 4, 4]])"
      ]
     },
     "execution_count": 7,
     "metadata": {},
     "output_type": "execute_result"
    }
   ],
   "source": [
    "n = (G[0:-2,0:-2] + G[0:-2,1:-1] + G[0:-2,2:] +\n",
    "     G[1:-1,0:-2]                + G[1:-1,2:] +\n",
    "     G[2:  ,0:-2] + G[2:  ,1:-1] + G[2:  ,2:])\n",
    "n"
   ]
  },
  {
   "cell_type": "markdown",
   "id": "4de783f3",
   "metadata": {
    "slideshow": {
     "slide_type": "subslide"
    }
   },
   "source": [
    "### New cells are born if they have exactly three neighbours (rule 4):"
   ]
  },
  {
   "cell_type": "code",
   "execution_count": 8,
   "id": "b96f0245",
   "metadata": {
    "slideshow": {
     "slide_type": "fragment"
    }
   },
   "outputs": [
    {
     "data": {
      "text/plain": [
       "array([[False, False, False],\n",
       "       [False,  True, False],\n",
       "       [False, False, False]])"
      ]
     },
     "execution_count": 8,
     "metadata": {},
     "output_type": "execute_result"
    }
   ],
   "source": [
    "births = (G[1:-1, 1:-1]==0) & (n==3)\n",
    "births"
   ]
  },
  {
   "cell_type": "markdown",
   "id": "5c7fb192",
   "metadata": {
    "slideshow": {
     "slide_type": "subslide"
    }
   },
   "source": [
    "### Cells survive if they have two or three neighbours (rule 3):"
   ]
  },
  {
   "cell_type": "code",
   "execution_count": 9,
   "id": "b30d05c8",
   "metadata": {
    "slideshow": {
     "slide_type": "fragment"
    }
   },
   "outputs": [
    {
     "data": {
      "text/plain": [
       "array([[False, False, False],\n",
       "       [False, False,  True],\n",
       "       [False, False, False]])"
      ]
     },
     "execution_count": 9,
     "metadata": {},
     "output_type": "execute_result"
    }
   ],
   "source": [
    "survivors = (G[1:-1, 1:-1] == 1) & ((n == 2) | (n == 3))\n",
    "survivors"
   ]
  },
  {
   "cell_type": "markdown",
   "id": "cecf0a59",
   "metadata": {
    "slideshow": {
     "slide_type": "subslide"
    }
   },
   "source": [
    "### Final state of the next generation:"
   ]
  },
  {
   "cell_type": "code",
   "execution_count": 10,
   "id": "85fe17fd",
   "metadata": {
    "slideshow": {
     "slide_type": "fragment"
    }
   },
   "outputs": [
    {
     "data": {
      "text/plain": [
       "array([[0, 0, 0, 0, 0],\n",
       "       [0, 0, 0, 0, 0],\n",
       "       [0, 0, 1, 1, 0],\n",
       "       [0, 0, 0, 0, 0],\n",
       "       [0, 0, 0, 0, 0]])"
      ]
     },
     "execution_count": 10,
     "metadata": {},
     "output_type": "execute_result"
    }
   ],
   "source": [
    "G_next = np.zeros_like(G)\n",
    "G_next[1:-1,1:-1][births | survivors] = 1\n",
    "G_next"
   ]
  },
  {
   "cell_type": "code",
   "execution_count": 11,
   "id": "1851a89a",
   "metadata": {
    "slideshow": {
     "slide_type": "fragment"
    }
   },
   "outputs": [
    {
     "data": {
      "image/png": "[encoded data removed]",
      "text/plain": [
       "<Figure size 432x288 with 2 Axes>"
      ]
     },
     "metadata": {
      "needs_background": "light"
     },
     "output_type": "display_data"
    }
   ],
   "source": [
    "fig, axes = plt.subplots(1, 2)\n",
    "for ax, data in zip(axes, (G, G_next)):\n",
    "    ax.imshow(data)\n",
    "    ax.set_axis_off()"
   ]
  },
  {
   "cell_type": "markdown",
   "id": "36b80f55",
   "metadata": {
    "slideshow": {
     "slide_type": "subslide"
    }
   },
   "source": [
    "## Let's put everything together"
   ]
  },
  {
   "cell_type": "code",
   "execution_count": 12,
   "id": "70218cfa",
   "metadata": {
    "slideshow": {
     "slide_type": "subslide"
    }
   },
   "outputs": [],
   "source": [
    "rng = np.random.default_rng(23)\n",
    "\n",
    "G = rng.integers(0, 2, (10, 10))\n",
    "\n",
    "def iterate(G):\n",
    "    n = (G[0:-2,0:-2] + G[0:-2,1:-1] + G[0:-2,2:] +\n",
    "         G[1:-1,0:-2]                + G[1:-1,2:] +\n",
    "         G[2:  ,0:-2] + G[2:  ,1:-1] + G[2:  ,2:])\n",
    "\n",
    "    survivors = (G[1:-1, 1:-1] == 1) & ((n == 2) | (n == 3))\n",
    "    births = (G[1:-1, 1:-1]==0) & (n==3)\n",
    "    \n",
    "    G[...] = 0  # clear the board\n",
    "    G[1:-1, 1:-1][survivors | births] = 1\n",
    "    \n",
    "    return G"
   ]
  },
  {
   "cell_type": "code",
   "execution_count": 13,
   "id": "98a1f8ad",
   "metadata": {
    "slideshow": {
     "slide_type": "subslide"
    }
   },
   "outputs": [
    {
     "data": {
      "image/png": "[encoded data removed]",
      "text/plain": [
       "<Figure size 1152x288 with 10 Axes>"
      ]
     },
     "metadata": {
      "needs_background": "light"
     },
     "output_type": "display_data"
    }
   ],
   "source": [
    "steps = 10\n",
    "fig, axes = plt.subplots(1, steps, figsize=(16, 4))\n",
    "for ax in axes:\n",
    "    ax.imshow(iterate(G))\n",
    "    ax.set_axis_off()"
   ]
  },
  {
   "cell_type": "markdown",
   "id": "fd14e8bd",
   "metadata": {
    "slideshow": {
     "slide_type": "slide"
    }
   },
   "source": [
    "## Animated Plot"
   ]
  },
  {
   "cell_type": "code",
   "execution_count": 14,
   "id": "5460e0ba",
   "metadata": {
    "slideshow": {
     "slide_type": "fragment"
    }
   },
   "outputs": [],
   "source": [
    "%matplotlib notebook\n",
    "from matplotlib.animation import FuncAnimation"
   ]
  },
  {
   "cell_type": "code",
   "execution_count": 15,
   "id": "5a6c9430",
   "metadata": {
    "slideshow": {
     "slide_type": "subslide"
    }
   },
   "outputs": [
    {
     "data": {
      "application/javascript": [
       "/* Put everything inside the global mpl namespace */\n",
       "/* global mpl */\n",
       "window.mpl = {};\n",
       "\n",
       "mpl.get_websocket_type = function () {\n",
       "    if (typeof WebSocket !== 'undefined') {\n",
       "        return WebSocket;\n",
       "    } else if (typeof MozWebSocket !== 'undefined') {\n",
       "        return MozWebSocket;\n",
       "    } else {\n",
       "        alert(\n",
       "            'Your browser does not have WebSocket support. ' +\n",
       "                'Please try Chrome, Safari or Firefox ≥ 6. ' +\n",
       "                'Firefox 4 and 5 are also supported but you ' +\n",
       "                'have to enable WebSockets in about:config.'\n",
       "        );\n",
       "    }\n",
       "};\n",
       "\n",
       "mpl.figure = function (figure_id, websocket, ondownload, parent_element) {\n",
       "    this.id = figure_id;\n",
       "\n",
       "    this.ws = websocket;\n",
       "\n",
       "    this.supports_binary = this.ws.binaryType !== undefined;\n",
       "\n",
       "    if (!this.supports_binary) {\n",
       "        var warnings = document.getElementById('mpl-warnings');\n",
       "        if (warnings) {\n",
       "            warnings.style.display = 'block';\n",
       "            warnings.textContent =\n",
       "                'This browser does not support binary websocket messages. ' +\n",
       "                'Performance may be slow.';\n",
       "        }\n",
       "    }\n",
       "\n",
       "    this.imageObj = new Image();\n",
       "\n",
       "    this.context = undefined;\n",
       "    this.message = undefined;\n",
       "    this.canvas = undefined;\n",
       "    this.rubberband_canvas = undefined;\n",
       "    this.rubberband_context = undefined;\n",
       "    this.format_dropdown = undefined;\n",
       "\n",
       "    this.image_mode = 'full';\n",
       "\n",
       "    this.root = document.createElement('div');\n",
       "    this.root.setAttribute('style', 'display: inline-block');\n",
       "    this._root_extra_style(this.root);\n",
       "\n",
       "    parent_element.appendChild(this.root);\n",
       "\n",
       "    this._init_header(this);\n",
       "    this._init_canvas(this);\n",
       "    this._init_toolbar(this);\n",
       "\n",
       "    var fig = this;\n",
       "\n",
       "    this.waiting = false;\n",
       "\n",
       "    this.ws.onopen = function () {\n",
       "        fig.send_message('supports_binary', { value: fig.supports_binary });\n",
       "        fig.send_message('send_image_mode', {});\n",
       "        if (fig.ratio !== 1) {\n",
       "            fig.send_message('set_device_pixel_ratio', {\n",
       "                device_pixel_ratio: fig.ratio,\n",
       "            });\n",
       "        }\n",
       "        fig.send_message('refresh', {});\n",
       "    };\n",
       "\n",
       "    this.imageObj.onload = function () {\n",
       "        if (fig.image_mode === 'full') {\n",
       "            // Full images could contain transparency (where diff images\n",
       "            // almost always do), so we need to clear the canvas so that\n",
       "            // there is no ghosting.\n",
       "            fig.context.clearRect(0, 0, fig.canvas.width, fig.canvas.height);\n",
       "        }\n",
       "        fig.context.drawImage(fig.imageObj, 0, 0);\n",
       "    };\n",
       "\n",
       "    this.imageObj.onunload = function () {\n",
       "        fig.ws.close();\n",
       "    };\n",
       "\n",
       "    this.ws.onmessage = this._make_on_message_function(this);\n",
       "\n",
       "    this.ondownload = ondownload;\n",
       "};\n",
       "\n",
       "mpl.figure.prototype._init_header = function () {\n",
       "    var titlebar = document.createElement('div');\n",
       "    titlebar.classList =\n",
       "        'ui-dialog-titlebar ui-widget-header ui-corner-all ui-helper-clearfix';\n",
       "    var titletext = document.createElement('div');\n",
       "    titletext.classList = 'ui-dialog-title';\n",
       "    titletext.setAttribute(\n",
       "        'style',\n",
       "        'width: 100%; text-align: center; padding: 3px;'\n",
       "    );\n",
       "    titlebar.appendChild(titletext);\n",
       "    this.root.appendChild(titlebar);\n",
       "    this.header = titletext;\n",
       "};\n",
       "\n",
       "mpl.figure.prototype._canvas_extra_style = function (_canvas_div) {};\n",
       "\n",
       "mpl.figure.prototype._root_extra_style = function (_canvas_div) {};\n",
       "\n",
       "mpl.figure.prototype._init_canvas = function () {\n",
       "    var fig = this;\n",
       "\n",
       "    var canvas_div = (this.canvas_div = document.createElement('div'));\n",
       "    canvas_div.setAttribute(\n",
       "        'style',\n",
       "        'border: 1px solid #ddd;' +\n",
       "            'box-sizing: content-box;' +\n",
       "            'clear: both;' +\n",
       "            'min-height: 1px;' +\n",
       "            'min-width: 1px;' +\n",
       "            'outline: 0;' +\n",
       "            'overflow: hidden;' +\n",
       "            'position: relative;' +\n",
       "            'resize: both;'\n",
       "    );\n",
       "\n",
       "    function on_keyboard_event_closure(name) {\n",
       "        return function (event) {\n",
       "            return fig.key_event(event, name);\n",
       "        };\n",
       "    }\n",
       "\n",
       "    canvas_div.addEventListener(\n",
       "        'keydown',\n",
       "        on_keyboard_event_closure('key_press')\n",
       "    );\n",
       "    canvas_div.addEventListener(\n",
       "        'keyup',\n",
       "        on_keyboard_event_closure('key_release')\n",
       "    );\n",
       "\n",
       "    this._canvas_extra_style(canvas_div);\n",
       "    this.root.appendChild(canvas_div);\n",
       "\n",
       "    var canvas = (this.canvas = document.createElement('canvas'));\n",
       "    canvas.classList.add('mpl-canvas');\n",
       "    canvas.setAttribute('style', 'box-sizing: content-box;');\n",
       "\n",
       "    this.context = canvas.getContext('2d');\n",
       "\n",
       "    var backingStore =\n",
       "        this.context.backingStorePixelRatio ||\n",
       "        this.context.webkitBackingStorePixelRatio ||\n",
       "        this.context.mozBackingStorePixelRatio ||\n",
       "        this.context.msBackingStorePixelRatio ||\n",
       "        this.context.oBackingStorePixelRatio ||\n",
       "        this.context.backingStorePixelRatio ||\n",
       "        1;\n",
       "\n",
       "    this.ratio = (window.devicePixelRatio || 1) / backingStore;\n",
       "\n",
       "    var rubberband_canvas = (this.rubberband_canvas = document.createElement(\n",
       "        'canvas'\n",
       "    ));\n",
       "    rubberband_canvas.setAttribute(\n",
       "        'style',\n",
       "        'box-sizing: content-box; position: absolute; left: 0; top: 0; z-index: 1;'\n",
       "    );\n",
       "\n",
       "    // Apply a ponyfill if ResizeObserver is not implemented by browser.\n",
       "    if (this.ResizeObserver === undefined) {\n",
       "        if (window.ResizeObserver !== undefined) {\n",
       "            this.ResizeObserver = window.ResizeObserver;\n",
       "        } else {\n",
       "            var obs = _JSXTOOLS_RESIZE_OBSERVER({});\n",
       "            this.ResizeObserver = obs.ResizeObserver;\n",
       "        }\n",
       "    }\n",
       "\n",
       "    this.resizeObserverInstance = new this.ResizeObserver(function (entries) {\n",
       "        var nentries = entries.length;\n",
       "        for (var i = 0; i < nentries; i++) {\n",
       "            var entry = entries[i];\n",
       "            var width, height;\n",
       "            if (entry.contentBoxSize) {\n",
       "                if (entry.contentBoxSize instanceof Array) {\n",
       "                    // Chrome 84 implements new version of spec.\n",
       "                    width = entry.contentBoxSize[0].inlineSize;\n",
       "                    height = entry.contentBoxSize[0].blockSize;\n",
       "                } else {\n",
       "                    // Firefox implements old version of spec.\n",
       "                    width = entry.contentBoxSize.inlineSize;\n",
       "                    height = entry.contentBoxSize.blockSize;\n",
       "                }\n",
       "            } else {\n",
       "                // Chrome <84 implements even older version of spec.\n",
       "                width = entry.contentRect.width;\n",
       "                height = entry.contentRect.height;\n",
       "            }\n",
       "\n",
       "            // Keep the size of the canvas and rubber band canvas in sync with\n",
       "            // the canvas container.\n",
       "            if (entry.devicePixelContentBoxSize) {\n",
       "                // Chrome 84 implements new version of spec.\n",
       "                canvas.setAttribute(\n",
       "                    'width',\n",
       "                    entry.devicePixelContentBoxSize[0].inlineSize\n",
       "                );\n",
       "                canvas.setAttribute(\n",
       "                    'height',\n",
       "                    entry.devicePixelContentBoxSize[0].blockSize\n",
       "                );\n",
       "            } else {\n",
       "                canvas.setAttribute('width', width * fig.ratio);\n",
       "                canvas.setAttribute('height', height * fig.ratio);\n",
       "            }\n",
       "            canvas.setAttribute(\n",
       "                'style',\n",
       "                'width: ' + width + 'px; height: ' + height + 'px;'\n",
       "            );\n",
       "\n",
       "            rubberband_canvas.setAttribute('width', width);\n",
       "            rubberband_canvas.setAttribute('height', height);\n",
       "\n",
       "            // And update the size in Python. We ignore the initial 0/0 size\n",
       "            // that occurs as the element is placed into the DOM, which should\n",
       "            // otherwise not happen due to the minimum size styling.\n",
       "            if (fig.ws.readyState == 1 && width != 0 && height != 0) {\n",
       "                fig.request_resize(width, height);\n",
       "            }\n",
       "        }\n",
       "    });\n",
       "    this.resizeObserverInstance.observe(canvas_div);\n",
       "\n",
       "    function on_mouse_event_closure(name) {\n",
       "        return function (event) {\n",
       "            return fig.mouse_event(event, name);\n",
       "        };\n",
       "    }\n",
       "\n",
       "    rubberband_canvas.addEventListener(\n",
       "        'mousedown',\n",
       "        on_mouse_event_closure('button_press')\n",
       "    );\n",
       "    rubberband_canvas.addEventListener(\n",
       "        'mouseup',\n",
       "        on_mouse_event_closure('button_release')\n",
       "    );\n",
       "    rubberband_canvas.addEventListener(\n",
       "        'dblclick',\n",
       "        on_mouse_event_closure('dblclick')\n",
       "    );\n",
       "    // Throttle sequential mouse events to 1 every 20ms.\n",
       "    rubberband_canvas.addEventListener(\n",
       "        'mousemove',\n",
       "        on_mouse_event_closure('motion_notify')\n",
       "    );\n",
       "\n",
       "    rubberband_canvas.addEventListener(\n",
       "        'mouseenter',\n",
       "        on_mouse_event_closure('figure_enter')\n",
       "    );\n",
       "    rubberband_canvas.addEventListener(\n",
       "        'mouseleave',\n",
       "        on_mouse_event_closure('figure_leave')\n",
       "    );\n",
       "\n",
       "    canvas_div.addEventListener('wheel', function (event) {\n",
       "        if (event.deltaY < 0) {\n",
       "            event.step = 1;\n",
       "        } else {\n",
       "            event.step = -1;\n",
       "        }\n",
       "        on_mouse_event_closure('scroll')(event);\n",
       "    });\n",
       "\n",
       "    canvas_div.appendChild(canvas);\n",
       "    canvas_div.appendChild(rubberband_canvas);\n",
       "\n",
       "    this.rubberband_context = rubberband_canvas.getContext('2d');\n",
       "    this.rubberband_context.strokeStyle = '#000000';\n",
       "\n",
       "    this._resize_canvas = function (width, height, forward) {\n",
       "        if (forward) {\n",
       "            canvas_div.style.width = width + 'px';\n",
       "            canvas_div.style.height = height + 'px';\n",
       "        }\n",
       "    };\n",
       "\n",
       "    // Disable right mouse context menu.\n",
       "    this.rubberband_canvas.addEventListener('contextmenu', function (_e) {\n",
       "        event.preventDefault();\n",
       "        return false;\n",
       "    });\n",
       "\n",
       "    function set_focus() {\n",
       "        canvas.focus();\n",
       "        canvas_div.focus();\n",
       "    }\n",
       "\n",
       "    window.setTimeout(set_focus, 100);\n",
       "};\n",
       "\n",
       "mpl.figure.prototype._init_toolbar = function () {\n",
       "    var fig = this;\n",
       "\n",
       "    var toolbar = document.createElement('div');\n",
       "    toolbar.classList = 'mpl-toolbar';\n",
       "    this.root.appendChild(toolbar);\n",
       "\n",
       "    function on_click_closure(name) {\n",
       "        return function (_event) {\n",
       "            return fig.toolbar_button_onclick(name);\n",
       "        };\n",
       "    }\n",
       "\n",
       "    function on_mouseover_closure(tooltip) {\n",
       "        return function (event) {\n",
       "            if (!event.currentTarget.disabled) {\n",
       "                return fig.toolbar_button_onmouseover(tooltip);\n",
       "            }\n",
       "        };\n",
       "    }\n",
       "\n",
       "    fig.buttons = {};\n",
       "    var buttonGroup = document.createElement('div');\n",
       "    buttonGroup.classList = 'mpl-button-group';\n",
       "    for (var toolbar_ind in mpl.toolbar_items) {\n",
       "        var name = mpl.toolbar_items[toolbar_ind][0];\n",
       "        var tooltip = mpl.toolbar_items[toolbar_ind][1];\n",
       "        var image = mpl.toolbar_items[toolbar_ind][2];\n",
       "        var method_name = mpl.toolbar_items[toolbar_ind][3];\n",
       "\n",
       "        if (!name) {\n",
       "            /* Instead of a spacer, we start a new button group. */\n",
       "            if (buttonGroup.hasChildNodes()) {\n",
       "                toolbar.appendChild(buttonGroup);\n",
       "            }\n",
       "            buttonGroup = document.createElement('div');\n",
       "            buttonGroup.classList = 'mpl-button-group';\n",
       "            continue;\n",
       "        }\n",
       "\n",
       "        var button = (fig.buttons[name] = document.createElement('button'));\n",
       "        button.classList = 'mpl-widget';\n",
       "        button.setAttribute('role', 'button');\n",
       "        button.setAttribute('aria-disabled', 'false');\n",
       "        button.addEventListener('click', on_click_closure(method_name));\n",
       "        button.addEventListener('mouseover', on_mouseover_closure(tooltip));\n",
       "\n",
       "        var icon_img = document.createElement('img');\n",
       "        icon_img.src = '_images/' + image + '.png';\n",
       "        icon_img.srcset = '_images/' + image + '_large.png 2x';\n",
       "        icon_img.alt = tooltip;\n",
       "        button.appendChild(icon_img);\n",
       "\n",
       "        buttonGroup.appendChild(button);\n",
       "    }\n",
       "\n",
       "    if (buttonGroup.hasChildNodes()) {\n",
       "        toolbar.appendChild(buttonGroup);\n",
       "    }\n",
       "\n",
       "    var fmt_picker = document.createElement('select');\n",
       "    fmt_picker.classList = 'mpl-widget';\n",
       "    toolbar.appendChild(fmt_picker);\n",
       "    this.format_dropdown = fmt_picker;\n",
       "\n",
       "    for (var ind in mpl.extensions) {\n",
       "        var fmt = mpl.extensions[ind];\n",
       "        var option = document.createElement('option');\n",
       "        option.selected = fmt === mpl.default_extension;\n",
       "        option.innerHTML = fmt;\n",
       "        fmt_picker.appendChild(option);\n",
       "    }\n",
       "\n",
       "    var status_bar = document.createElement('span');\n",
       "    status_bar.classList = 'mpl-message';\n",
       "    toolbar.appendChild(status_bar);\n",
       "    this.message = status_bar;\n",
       "};\n",
       "\n",
       "mpl.figure.prototype.request_resize = function (x_pixels, y_pixels) {\n",
       "    // Request matplotlib to resize the figure. Matplotlib will then trigger a resize in the client,\n",
       "    // which will in turn request a refresh of the image.\n",
       "    this.send_message('resize', { width: x_pixels, height: y_pixels });\n",
       "};\n",
       "\n",
       "mpl.figure.prototype.send_message = function (type, properties) {\n",
       "    properties['type'] = type;\n",
       "    properties['figure_id'] = this.id;\n",
       "    this.ws.send(JSON.stringify(properties));\n",
       "};\n",
       "\n",
       "mpl.figure.prototype.send_draw_message = function () {\n",
       "    if (!this.waiting) {\n",
       "        this.waiting = true;\n",
       "        this.ws.send(JSON.stringify({ type: 'draw', figure_id: this.id }));\n",
       "    }\n",
       "};\n",
       "\n",
       "mpl.figure.prototype.handle_save = function (fig, _msg) {\n",
       "    var format_dropdown = fig.format_dropdown;\n",
       "    var format = format_dropdown.options[format_dropdown.selectedIndex].value;\n",
       "    fig.ondownload(fig, format);\n",
       "};\n",
       "\n",
       "mpl.figure.prototype.handle_resize = function (fig, msg) {\n",
       "    var size = msg['size'];\n",
       "    if (size[0] !== fig.canvas.width || size[1] !== fig.canvas.height) {\n",
       "        fig._resize_canvas(size[0], size[1], msg['forward']);\n",
       "        fig.send_message('refresh', {});\n",
       "    }\n",
       "};\n",
       "\n",
       "mpl.figure.prototype.handle_rubberband = function (fig, msg) {\n",
       "    var x0 = msg['x0'] / fig.ratio;\n",
       "    var y0 = (fig.canvas.height - msg['y0']) / fig.ratio;\n",
       "    var x1 = msg['x1'] / fig.ratio;\n",
       "    var y1 = (fig.canvas.height - msg['y1']) / fig.ratio;\n",
       "    x0 = Math.floor(x0) + 0.5;\n",
       "    y0 = Math.floor(y0) + 0.5;\n",
       "    x1 = Math.floor(x1) + 0.5;\n",
       "    y1 = Math.floor(y1) + 0.5;\n",
       "    var min_x = Math.min(x0, x1);\n",
       "    var min_y = Math.min(y0, y1);\n",
       "    var width = Math.abs(x1 - x0);\n",
       "    var height = Math.abs(y1 - y0);\n",
       "\n",
       "    fig.rubberband_context.clearRect(\n",
       "        0,\n",
       "        0,\n",
       "        fig.canvas.width / fig.ratio,\n",
       "        fig.canvas.height / fig.ratio\n",
       "    );\n",
       "\n",
       "    fig.rubberband_context.strokeRect(min_x, min_y, width, height);\n",
       "};\n",
       "\n",
       "mpl.figure.prototype.handle_figure_label = function (fig, msg) {\n",
       "    // Updates the figure title.\n",
       "    fig.header.textContent = msg['label'];\n",
       "};\n",
       "\n",
       "mpl.figure.prototype.handle_cursor = function (fig, msg) {\n",
       "    fig.rubberband_canvas.style.cursor = msg['cursor'];\n",
       "};\n",
       "\n",
       "mpl.figure.prototype.handle_message = function (fig, msg) {\n",
       "    fig.message.textContent = msg['message'];\n",
       "};\n",
       "\n",
       "mpl.figure.prototype.handle_draw = function (fig, _msg) {\n",
       "    // Request the server to send over a new figure.\n",
       "    fig.send_draw_message();\n",
       "};\n",
       "\n",
       "mpl.figure.prototype.handle_image_mode = function (fig, msg) {\n",
       "    fig.image_mode = msg['mode'];\n",
       "};\n",
       "\n",
       "mpl.figure.prototype.handle_history_buttons = function (fig, msg) {\n",
       "    for (var key in msg) {\n",
       "        if (!(key in fig.buttons)) {\n",
       "            continue;\n",
       "        }\n",
       "        fig.buttons[key].disabled = !msg[key];\n",
       "        fig.buttons[key].setAttribute('aria-disabled', !msg[key]);\n",
       "    }\n",
       "};\n",
       "\n",
       "mpl.figure.prototype.handle_navigate_mode = function (fig, msg) {\n",
       "    if (msg['mode'] === 'PAN') {\n",
       "        fig.buttons['Pan'].classList.add('active');\n",
       "        fig.buttons['Zoom'].classList.remove('active');\n",
       "    } else if (msg['mode'] === 'ZOOM') {\n",
       "        fig.buttons['Pan'].classList.remove('active');\n",
       "        fig.buttons['Zoom'].classList.add('active');\n",
       "    } else {\n",
       "        fig.buttons['Pan'].classList.remove('active');\n",
       "        fig.buttons['Zoom'].classList.remove('active');\n",
       "    }\n",
       "};\n",
       "\n",
       "mpl.figure.prototype.updated_canvas_event = function () {\n",
       "    // Called whenever the canvas gets updated.\n",
       "    this.send_message('ack', {});\n",
       "};\n",
       "\n",
       "// A function to construct a web socket function for onmessage handling.\n",
       "// Called in the figure constructor.\n",
       "mpl.figure.prototype._make_on_message_function = function (fig) {\n",
       "    return function socket_on_message(evt) {\n",
       "        if (evt.data instanceof Blob) {\n",
       "            var img = evt.data;\n",
       "            if (img.type !== 'image/png') {\n",
       "                /* FIXME: We get \"Resource interpreted as Image but\n",
       "                 * transferred with MIME type text/plain:\" errors on\n",
       "                 * Chrome.  But how to set the MIME type?  It doesn't seem\n",
       "                 * to be part of the websocket stream */\n",
       "                img.type = 'image/png';\n",
       "            }\n",
       "\n",
       "            /* Free the memory for the previous frames */\n",
       "            if (fig.imageObj.src) {\n",
       "                (window.URL || window.webkitURL).revokeObjectURL(\n",
       "                    fig.imageObj.src\n",
       "                );\n",
       "            }\n",
       "\n",
       "            fig.imageObj.src = (window.URL || window.webkitURL).createObjectURL(\n",
       "                img\n",
       "            );\n",
       "            fig.updated_canvas_event();\n",
       "            fig.waiting = false;\n",
       "            return;\n",
       "        } else if (\n",
       "            typeof evt.data === 'string' &&\n",
       "            evt.data.slice(0, 21) === 'data:image/png;base64'\n",
       "        ) {\n",
       "            fig.imageObj.src = evt.data;\n",
       "            fig.updated_canvas_event();\n",
       "            fig.waiting = false;\n",
       "            return;\n",
       "        }\n",
       "\n",
       "        var msg = JSON.parse(evt.data);\n",
       "        var msg_type = msg['type'];\n",
       "\n",
       "        // Call the  \"handle_{type}\" callback, which takes\n",
       "        // the figure and JSON message as its only arguments.\n",
       "        try {\n",
       "            var callback = fig['handle_' + msg_type];\n",
       "        } catch (e) {\n",
       "            console.log(\n",
       "                \"No handler for the '\" + msg_type + \"' message type: \",\n",
       "                msg\n",
       "            );\n",
       "            return;\n",
       "        }\n",
       "\n",
       "        if (callback) {\n",
       "            try {\n",
       "                // console.log(\"Handling '\" + msg_type + \"' message: \", msg);\n",
       "                callback(fig, msg);\n",
       "            } catch (e) {\n",
       "                console.log(\n",
       "                    \"Exception inside the 'handler_\" + msg_type + \"' callback:\",\n",
       "                    e,\n",
       "                    e.stack,\n",
       "                    msg\n",
       "                );\n",
       "            }\n",
       "        }\n",
       "    };\n",
       "};\n",
       "\n",
       "// from https://stackoverflow.com/questions/1114465/getting-mouse-location-in-canvas\n",
       "mpl.findpos = function (e) {\n",
       "    //this section is from http://www.quirksmode.org/js/events_properties.html\n",
       "    var targ;\n",
       "    if (!e) {\n",
       "        e = window.event;\n",
       "    }\n",
       "    if (e.target) {\n",
       "        targ = e.target;\n",
       "    } else if (e.srcElement) {\n",
       "        targ = e.srcElement;\n",
       "    }\n",
       "    if (targ.nodeType === 3) {\n",
       "        // defeat Safari bug\n",
       "        targ = targ.parentNode;\n",
       "    }\n",
       "\n",
       "    // pageX,Y are the mouse positions relative to the document\n",
       "    var boundingRect = targ.getBoundingClientRect();\n",
       "    var x = e.pageX - (boundingRect.left + document.body.scrollLeft);\n",
       "    var y = e.pageY - (boundingRect.top + document.body.scrollTop);\n",
       "\n",
       "    return { x: x, y: y };\n",
       "};\n",
       "\n",
       "/*\n",
       " * return a copy of an object with only non-object keys\n",
       " * we need this to avoid circular references\n",
       " * https://stackoverflow.com/a/24161582/3208463\n",
       " */\n",
       "function simpleKeys(original) {\n",
       "    return Object.keys(original).reduce(function (obj, key) {\n",
       "        if (typeof original[key] !== 'object') {\n",
       "            obj[key] = original[key];\n",
       "        }\n",
       "        return obj;\n",
       "    }, {});\n",
       "}\n",
       "\n",
       "mpl.figure.prototype.mouse_event = function (event, name) {\n",
       "    var canvas_pos = mpl.findpos(event);\n",
       "\n",
       "    if (name === 'button_press') {\n",
       "        this.canvas.focus();\n",
       "        this.canvas_div.focus();\n",
       "    }\n",
       "\n",
       "    var x = canvas_pos.x * this.ratio;\n",
       "    var y = canvas_pos.y * this.ratio;\n",
       "\n",
       "    this.send_message(name, {\n",
       "        x: x,\n",
       "        y: y,\n",
       "        button: event.button,\n",
       "        step: event.step,\n",
       "        guiEvent: simpleKeys(event),\n",
       "    });\n",
       "\n",
       "    /* This prevents the web browser from automatically changing to\n",
       "     * the text insertion cursor when the button is pressed.  We want\n",
       "     * to control all of the cursor setting manually through the\n",
       "     * 'cursor' event from matplotlib */\n",
       "    event.preventDefault();\n",
       "    return false;\n",
       "};\n",
       "\n",
       "mpl.figure.prototype._key_event_extra = function (_event, _name) {\n",
       "    // Handle any extra behaviour associated with a key event\n",
       "};\n",
       "\n",
       "mpl.figure.prototype.key_event = function (event, name) {\n",
       "    // Prevent repeat events\n",
       "    if (name === 'key_press') {\n",
       "        if (event.key === this._key) {\n",
       "            return;\n",
       "        } else {\n",
       "            this._key = event.key;\n",
       "        }\n",
       "    }\n",
       "    if (name === 'key_release') {\n",
       "        this._key = null;\n",
       "    }\n",
       "\n",
       "    var value = '';\n",
       "    if (event.ctrlKey && event.key !== 'Control') {\n",
       "        value += 'ctrl+';\n",
       "    }\n",
       "    else if (event.altKey && event.key !== 'Alt') {\n",
       "        value += 'alt+';\n",
       "    }\n",
       "    else if (event.shiftKey && event.key !== 'Shift') {\n",
       "        value += 'shift+';\n",
       "    }\n",
       "\n",
       "    value += 'k' + event.key;\n",
       "\n",
       "    this._key_event_extra(event, name);\n",
       "\n",
       "    this.send_message(name, { key: value, guiEvent: simpleKeys(event) });\n",
       "    return false;\n",
       "};\n",
       "\n",
       "mpl.figure.prototype.toolbar_button_onclick = function (name) {\n",
       "    if (name === 'download') {\n",
       "        this.handle_save(this, null);\n",
       "    } else {\n",
       "        this.send_message('toolbar_button', { name: name });\n",
       "    }\n",
       "};\n",
       "\n",
       "mpl.figure.prototype.toolbar_button_onmouseover = function (tooltip) {\n",
       "    this.message.textContent = tooltip;\n",
       "};\n",
       "\n",
       "///////////////// REMAINING CONTENT GENERATED BY embed_js.py /////////////////\n",
       "// prettier-ignore\n",
       "var _JSXTOOLS_RESIZE_OBSERVER=function(A){var t,i=new WeakMap,n=new WeakMap,a=new WeakMap,r=new WeakMap,o=new Set;function s(e){if(!(this instanceof s))throw new TypeError(\"Constructor requires 'new' operator\");i.set(this,e)}function h(){throw new TypeError(\"Function is not a constructor\")}function c(e,t,i,n){e=0 in arguments?Number(arguments[0]):0,t=1 in arguments?Number(arguments[1]):0,i=2 in arguments?Number(arguments[2]):0,n=3 in arguments?Number(arguments[3]):0,this.right=(this.x=this.left=e)+(this.width=i),this.bottom=(this.y=this.top=t)+(this.height=n),Object.freeze(this)}function d(){t=requestAnimationFrame(d);var s=new WeakMap,p=new Set;o.forEach((function(t){r.get(t).forEach((function(i){var r=t instanceof window.SVGElement,o=a.get(t),d=r?0:parseFloat(o.paddingTop),f=r?0:parseFloat(o.paddingRight),l=r?0:parseFloat(o.paddingBottom),u=r?0:parseFloat(o.paddingLeft),g=r?0:parseFloat(o.borderTopWidth),m=r?0:parseFloat(o.borderRightWidth),w=r?0:parseFloat(o.borderBottomWidth),b=u+f,F=d+l,v=(r?0:parseFloat(o.borderLeftWidth))+m,W=g+w,y=r?0:t.offsetHeight-W-t.clientHeight,E=r?0:t.offsetWidth-v-t.clientWidth,R=b+v,z=F+W,M=r?t.width:parseFloat(o.width)-R-E,O=r?t.height:parseFloat(o.height)-z-y;if(n.has(t)){var k=n.get(t);if(k[0]===M&&k[1]===O)return}n.set(t,[M,O]);var S=Object.create(h.prototype);S.target=t,S.contentRect=new c(u,d,M,O),s.has(i)||(s.set(i,[]),p.add(i)),s.get(i).push(S)}))})),p.forEach((function(e){i.get(e).call(e,s.get(e),e)}))}return s.prototype.observe=function(i){if(i instanceof window.Element){r.has(i)||(r.set(i,new Set),o.add(i),a.set(i,window.getComputedStyle(i)));var n=r.get(i);n.has(this)||n.add(this),cancelAnimationFrame(t),t=requestAnimationFrame(d)}},s.prototype.unobserve=function(i){if(i instanceof window.Element&&r.has(i)){var n=r.get(i);n.has(this)&&(n.delete(this),n.size||(r.delete(i),o.delete(i))),n.size||r.delete(i),o.size||cancelAnimationFrame(t)}},A.DOMRectReadOnly=c,A.ResizeObserver=s,A.ResizeObserverEntry=h,A}; // eslint-disable-line\n",
       "mpl.toolbar_items = [[\"Home\", \"Reset original view\", \"fa fa-home icon-home\", \"home\"], [\"Back\", \"Back to previous view\", \"fa fa-arrow-left icon-arrow-left\", \"back\"], [\"Forward\", \"Forward to next view\", \"fa fa-arrow-right icon-arrow-right\", \"forward\"], [\"\", \"\", \"\", \"\"], [\"Pan\", \"Left button pans, Right button zooms\\nx/y fixes axis, CTRL fixes aspect\", \"fa fa-arrows icon-move\", \"pan\"], [\"Zoom\", \"Zoom to rectangle\\nx/y fixes axis\", \"fa fa-square-o icon-check-empty\", \"zoom\"], [\"\", \"\", \"\", \"\"], [\"Download\", \"Download plot\", \"fa fa-floppy-o icon-save\", \"download\"]];\n",
       "\n",
       "mpl.extensions = [\"eps\", \"jpeg\", \"pgf\", \"pdf\", \"png\", \"ps\", \"raw\", \"svg\", \"tif\"];\n",
       "\n",
       "mpl.default_extension = \"png\";/* global mpl */\n",
       "\n",
       "var comm_websocket_adapter = function (comm) {\n",
       "    // Create a \"websocket\"-like object which calls the given IPython comm\n",
       "    // object with the appropriate methods. Currently this is a non binary\n",
       "    // socket, so there is still some room for performance tuning.\n",
       "    var ws = {};\n",
       "\n",
       "    ws.binaryType = comm.kernel.ws.binaryType;\n",
       "    ws.readyState = comm.kernel.ws.readyState;\n",
       "    function updateReadyState(_event) {\n",
       "        if (comm.kernel.ws) {\n",
       "            ws.readyState = comm.kernel.ws.readyState;\n",
       "        } else {\n",
       "            ws.readyState = 3; // Closed state.\n",
       "        }\n",
       "    }\n",
       "    comm.kernel.ws.addEventListener('open', updateReadyState);\n",
       "    comm.kernel.ws.addEventListener('close', updateReadyState);\n",
       "    comm.kernel.ws.addEventListener('error', updateReadyState);\n",
       "\n",
       "    ws.close = function () {\n",
       "        comm.close();\n",
       "    };\n",
       "    ws.send = function (m) {\n",
       "        //console.log('sending', m);\n",
       "        comm.send(m);\n",
       "    };\n",
       "    // Register the callback with on_msg.\n",
       "    comm.on_msg(function (msg) {\n",
       "        //console.log('receiving', msg['content']['data'], msg);\n",
       "        var data = msg['content']['data'];\n",
       "        if (data['blob'] !== undefined) {\n",
       "            data = {\n",
       "                data: new Blob(msg['buffers'], { type: data['blob'] }),\n",
       "            };\n",
       "        }\n",
       "        // Pass the mpl event to the overridden (by mpl) onmessage function.\n",
       "        ws.onmessage(data);\n",
       "    });\n",
       "    return ws;\n",
       "};\n",
       "\n",
       "mpl.mpl_figure_comm = function (comm, msg) {\n",
       "    // This is the function which gets called when the mpl process\n",
       "    // starts-up an IPython Comm through the \"matplotlib\" channel.\n",
       "\n",
       "    var id = msg.content.data.id;\n",
       "    // Get hold of the div created by the display call when the Comm\n",
       "    // socket was opened in Python.\n",
       "    var element = document.getElementById(id);\n",
       "    var ws_proxy = comm_websocket_adapter(comm);\n",
       "\n",
       "    function ondownload(figure, _format) {\n",
       "        window.open(figure.canvas.toDataURL());\n",
       "    }\n",
       "\n",
       "    var fig = new mpl.figure(id, ws_proxy, ondownload, element);\n",
       "\n",
       "    // Call onopen now - mpl needs it, as it is assuming we've passed it a real\n",
       "    // web socket which is closed, not our websocket->open comm proxy.\n",
       "    ws_proxy.onopen();\n",
       "\n",
       "    fig.parent_element = element;\n",
       "    fig.cell_info = mpl.find_output_cell(\"<div id='\" + id + \"'></div>\");\n",
       "    if (!fig.cell_info) {\n",
       "        console.error('Failed to find cell for figure', id, fig);\n",
       "        return;\n",
       "    }\n",
       "    fig.cell_info[0].output_area.element.on(\n",
       "        'cleared',\n",
       "        { fig: fig },\n",
       "        fig._remove_fig_handler\n",
       "    );\n",
       "};\n",
       "\n",
       "mpl.figure.prototype.handle_close = function (fig, msg) {\n",
       "    var width = fig.canvas.width / fig.ratio;\n",
       "    fig.cell_info[0].output_area.element.off(\n",
       "        'cleared',\n",
       "        fig._remove_fig_handler\n",
       "    );\n",
       "    fig.resizeObserverInstance.unobserve(fig.canvas_div);\n",
       "\n",
       "    // Update the output cell to use the data from the current canvas.\n",
       "    fig.push_to_output();\n",
       "    var dataURL = fig.canvas.toDataURL();\n",
       "    // Re-enable the keyboard manager in IPython - without this line, in FF,\n",
       "    // the notebook keyboard shortcuts fail.\n",
       "    IPython.keyboard_manager.enable();\n",
       "    fig.parent_element.innerHTML =\n",
       "        '<img src=\"' + dataURL + '\" width=\"' + width + '\">';\n",
       "    fig.close_ws(fig, msg);\n",
       "};\n",
       "\n",
       "mpl.figure.prototype.close_ws = function (fig, msg) {\n",
       "    fig.send_message('closing', msg);\n",
       "    // fig.ws.close()\n",
       "};\n",
       "\n",
       "mpl.figure.prototype.push_to_output = function (_remove_interactive) {\n",
       "    // Turn the data on the canvas into data in the output cell.\n",
       "    var width = this.canvas.width / this.ratio;\n",
       "    var dataURL = this.canvas.toDataURL();\n",
       "    this.cell_info[1]['text/html'] =\n",
       "        '<img src=\"' + dataURL + '\" width=\"' + width + '\">';\n",
       "};\n",
       "\n",
       "mpl.figure.prototype.updated_canvas_event = function () {\n",
       "    // Tell IPython that the notebook contents must change.\n",
       "    IPython.notebook.set_dirty(true);\n",
       "    this.send_message('ack', {});\n",
       "    var fig = this;\n",
       "    // Wait a second, then push the new image to the DOM so\n",
       "    // that it is saved nicely (might be nice to debounce this).\n",
       "    setTimeout(function () {\n",
       "        fig.push_to_output();\n",
       "    }, 1000);\n",
       "};\n",
       "\n",
       "mpl.figure.prototype._init_toolbar = function () {\n",
       "    var fig = this;\n",
       "\n",
       "    var toolbar = document.createElement('div');\n",
       "    toolbar.classList = 'btn-toolbar';\n",
       "    this.root.appendChild(toolbar);\n",
       "\n",
       "    function on_click_closure(name) {\n",
       "        return function (_event) {\n",
       "            return fig.toolbar_button_onclick(name);\n",
       "        };\n",
       "    }\n",
       "\n",
       "    function on_mouseover_closure(tooltip) {\n",
       "        return function (event) {\n",
       "            if (!event.currentTarget.disabled) {\n",
       "                return fig.toolbar_button_onmouseover(tooltip);\n",
       "            }\n",
       "        };\n",
       "    }\n",
       "\n",
       "    fig.buttons = {};\n",
       "    var buttonGroup = document.createElement('div');\n",
       "    buttonGroup.classList = 'btn-group';\n",
       "    var button;\n",
       "    for (var toolbar_ind in mpl.toolbar_items) {\n",
       "        var name = mpl.toolbar_items[toolbar_ind][0];\n",
       "        var tooltip = mpl.toolbar_items[toolbar_ind][1];\n",
       "        var image = mpl.toolbar_items[toolbar_ind][2];\n",
       "        var method_name = mpl.toolbar_items[toolbar_ind][3];\n",
       "\n",
       "        if (!name) {\n",
       "            /* Instead of a spacer, we start a new button group. */\n",
       "            if (buttonGroup.hasChildNodes()) {\n",
       "                toolbar.appendChild(buttonGroup);\n",
       "            }\n",
       "            buttonGroup = document.createElement('div');\n",
       "            buttonGroup.classList = 'btn-group';\n",
       "            continue;\n",
       "        }\n",
       "\n",
       "        button = fig.buttons[name] = document.createElement('button');\n",
       "        button.classList = 'btn btn-default';\n",
       "        button.href = '#';\n",
       "        button.title = name;\n",
       "        button.innerHTML = '<i class=\"fa ' + image + ' fa-lg\"></i>';\n",
       "        button.addEventListener('click', on_click_closure(method_name));\n",
       "        button.addEventListener('mouseover', on_mouseover_closure(tooltip));\n",
       "        buttonGroup.appendChild(button);\n",
       "    }\n",
       "\n",
       "    if (buttonGroup.hasChildNodes()) {\n",
       "        toolbar.appendChild(buttonGroup);\n",
       "    }\n",
       "\n",
       "    // Add the status bar.\n",
       "    var status_bar = document.createElement('span');\n",
       "    status_bar.classList = 'mpl-message pull-right';\n",
       "    toolbar.appendChild(status_bar);\n",
       "    this.message = status_bar;\n",
       "\n",
       "    // Add the close button to the window.\n",
       "    var buttongrp = document.createElement('div');\n",
       "    buttongrp.classList = 'btn-group inline pull-right';\n",
       "    button = document.createElement('button');\n",
       "    button.classList = 'btn btn-mini btn-primary';\n",
       "    button.href = '#';\n",
       "    button.title = 'Stop Interaction';\n",
       "    button.innerHTML = '<i class=\"fa fa-power-off icon-remove icon-large\"></i>';\n",
       "    button.addEventListener('click', function (_evt) {\n",
       "        fig.handle_close(fig, {});\n",
       "    });\n",
       "    button.addEventListener(\n",
       "        'mouseover',\n",
       "        on_mouseover_closure('Stop Interaction')\n",
       "    );\n",
       "    buttongrp.appendChild(button);\n",
       "    var titlebar = this.root.querySelector('.ui-dialog-titlebar');\n",
       "    titlebar.insertBefore(buttongrp, titlebar.firstChild);\n",
       "};\n",
       "\n",
       "mpl.figure.prototype._remove_fig_handler = function (event) {\n",
       "    var fig = event.data.fig;\n",
       "    if (event.target !== this) {\n",
       "        // Ignore bubbled events from children.\n",
       "        return;\n",
       "    }\n",
       "    fig.close_ws(fig, {});\n",
       "};\n",
       "\n",
       "mpl.figure.prototype._root_extra_style = function (el) {\n",
       "    el.style.boxSizing = 'content-box'; // override notebook setting of border-box.\n",
       "};\n",
       "\n",
       "mpl.figure.prototype._canvas_extra_style = function (el) {\n",
       "    // this is important to make the div 'focusable\n",
       "    el.setAttribute('tabindex', 0);\n",
       "    // reach out to IPython and tell the keyboard manager to turn it's self\n",
       "    // off when our div gets focus\n",
       "\n",
       "    // location in version 3\n",
       "    if (IPython.notebook.keyboard_manager) {\n",
       "        IPython.notebook.keyboard_manager.register_events(el);\n",
       "    } else {\n",
       "        // location in version 2\n",
       "        IPython.keyboard_manager.register_events(el);\n",
       "    }\n",
       "};\n",
       "\n",
       "mpl.figure.prototype._key_event_extra = function (event, _name) {\n",
       "    // Check for shift+enter\n",
       "    if (event.shiftKey && event.which === 13) {\n",
       "        this.canvas_div.blur();\n",
       "        // select the cell after this one\n",
       "        var index = IPython.notebook.find_cell_index(this.cell_info[0]);\n",
       "        IPython.notebook.select(index + 1);\n",
       "    }\n",
       "};\n",
       "\n",
       "mpl.figure.prototype.handle_save = function (fig, _msg) {\n",
       "    fig.ondownload(fig, null);\n",
       "};\n",
       "\n",
       "mpl.find_output_cell = function (html_output) {\n",
       "    // Return the cell and output element which can be found *uniquely* in the notebook.\n",
       "    // Note - this is a bit hacky, but it is done because the \"notebook_saving.Notebook\"\n",
       "    // IPython event is triggered only after the cells have been serialised, which for\n",
       "    // our purposes (turning an active figure into a static one), is too late.\n",
       "    var cells = IPython.notebook.get_cells();\n",
       "    var ncells = cells.length;\n",
       "    for (var i = 0; i < ncells; i++) {\n",
       "        var cell = cells[i];\n",
       "        if (cell.cell_type === 'code') {\n",
       "            for (var j = 0; j < cell.output_area.outputs.length; j++) {\n",
       "                var data = cell.output_area.outputs[j];\n",
       "                if (data.data) {\n",
       "                    // IPython >= 3 moved mimebundle to data attribute of output\n",
       "                    data = data.data;\n",
       "                }\n",
       "                if (data['text/html'] === html_output) {\n",
       "                    return [cell, data, j];\n",
       "                }\n",
       "            }\n",
       "        }\n",
       "    }\n",
       "};\n",
       "\n",
       "// Register the function which deals with the matplotlib target/channel.\n",
       "// The kernel may be null if the page has been refreshed.\n",
       "if (IPython.notebook.kernel !== null) {\n",
       "    IPython.notebook.kernel.comm_manager.register_target(\n",
       "        'matplotlib',\n",
       "        mpl.mpl_figure_comm\n",
       "    );\n",
       "}\n"
      ],
      "text/plain": [
       "<IPython.core.display.Javascript object>"
      ]
     },
     "metadata": {},
     "output_type": "display_data"
    },
    {
     "data": {
      "text/html": [
       "<img src=\"data:image/png;base64,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\" width=\"640\">"
      ],
      "text/plain": [
       "<IPython.core.display.HTML object>"
      ]
     },
     "metadata": {},
     "output_type": "display_data"
    }
   ],
   "source": [
    "rng = np.random.default_rng(23)\n",
    "G = rng.integers(0, 2, (50, 50))\n",
    "\n",
    "fig, ax = plt.subplots()\n",
    "image = ax.imshow(G)\n",
    "ax.set_axis_off()\n",
    "\n",
    "def update(frame):\n",
    "    image.set_data(iterate(G))\n",
    "    return image\n",
    "\n",
    "FuncAnimation(fig, update, frames=np.arange(1000))\n",
    "plt.axis('off');"
   ]
  }
 ],
 "metadata": {
  "celltoolbar": "Slideshow",
  "kernelspec": {
   "display_name": "escape2022",
   "language": "python",
   "name": "escape2022"
  },
  "language_info": {
   "codemirror_mode": {
    "name": "ipython",
    "version": 3
   },
   "file_extension": ".py",
   "mimetype": "text/x-python",
   "name": "python",
   "nbconvert_exporter": "python",
   "pygments_lexer": "ipython3",
   "version": "3.9.12"
  }
 },
 "nbformat": 4,
 "nbformat_minor": 5
}
