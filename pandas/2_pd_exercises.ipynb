{
 "cells": [
  {
   "cell_type": "markdown",
   "metadata": {
    "slideshow": {
     "slide_type": "slide"
    }
   },
   "source": [
    "# Pandas Exercises\n",
    "\n",
    "Tamás Gál (tamas.gal@fau.de)\n",
    "\n",
    "The latest version of this notebook is available at [https://github.com/escape2020/school2022](https://github.com/escape2020/school2022)"
   ]
  },
  {
   "cell_type": "code",
   "execution_count": 1,
   "metadata": {
    "slideshow": {
     "slide_type": "slide"
    }
   },
   "outputs": [
    {
     "name": "stdout",
     "output_type": "stream",
     "text": [
      "Python version: 3.9.12 (main, Mar 26 2022, 15:44:31) \n",
      "[Clang 13.1.6 (clang-1316.0.21.2)]\n",
      "Pandas version: 1.4.2\n",
      "NumPy version: 1.22.4\n",
      "Matplotlib version: 3.5.2\n",
      "seaborn version: 0.11.2\n"
     ]
    }
   ],
   "source": [
    "%matplotlib inline\n",
    "import pandas as pd\n",
    "import numpy as np\n",
    "import seaborn as sns\n",
    "import matplotlib as ml\n",
    "import sys\n",
    "plt = ml.pyplot\n",
    "ml.rcParams['figure.figsize'] = (10.0, 5.0)\n",
    "\n",
    "print(f\"Python version: {sys.version}\\n\"\n",
    "      f\"Pandas version: {pd.__version__}\\n\"\n",
    "      f\"NumPy version: {np.__version__}\\n\"\n",
    "      f\"Matplotlib version: {ml.__version__}\\n\"\n",
    "      f\"seaborn version: {sns.__version__}\")"
   ]
  },
  {
   "cell_type": "code",
   "execution_count": 2,
   "metadata": {
    "slideshow": {
     "slide_type": "slide"
    }
   },
   "outputs": [],
   "source": [
    "from IPython.core.magic import register_line_magic\n",
    "\n",
    "@register_line_magic\n",
    "def shorterr(line):\n",
    "    \"\"\"Show only the exception message if one is raised.\"\"\"\n",
    "    try:\n",
    "        output = eval(line)\n",
    "    except Exception as e:\n",
    "        print(\"\\x1b[31m\\x1b[1m{e.__class__.__name__}: {e}\\x1b[0m\".format(e=e))\n",
    "    else:\n",
    "        return output\n",
    "    \n",
    "del shorterr"
   ]
  },
  {
   "cell_type": "code",
   "execution_count": 3,
   "metadata": {
    "slideshow": {
     "slide_type": "skip"
    }
   },
   "outputs": [],
   "source": [
    "import warnings\n",
    "warnings.filterwarnings('ignore')  # annoying UserWarnings from Jupyter/seaborn which are not fixed yet"
   ]
  },
  {
   "cell_type": "markdown",
   "metadata": {
    "slideshow": {
     "slide_type": "slide"
    }
   },
   "source": [
    "## Exercise 1\n",
    "\n",
    "Use the `pd.read_csv()` function to create a `DataFrame` from the dataset `data/neutrinos.csv`. You will encounter a few obstacles but make sure you don't modify the raw data. It's always a good idea to open the CSV file in question in an editor and see how it's formatted.\n",
    "\n",
    "Every column of the resulting `DataFrame` needs to have a well defined `dtype` (something other than `object`).\n",
    "\n",
    "**Notice: energies are measured in `GeV`, distances and positions in `m`, angles in radians and time in `ns` for all of the provided datasets.**"
   ]
  },
  {
   "cell_type": "markdown",
   "metadata": {
    "slideshow": {
     "slide_type": "slide"
    }
   },
   "source": [
    "## Exercise 2\n",
    "\n",
    "Create a histogram of the neutrino energies (`energy`)."
   ]
  },
  {
   "cell_type": "markdown",
   "metadata": {
    "slideshow": {
     "slide_type": "slide"
    }
   },
   "source": [
    "## Exercise 3\n",
    "\n",
    "Use the `pd.read_csv()` function to create a `DataFrame` from the dataset `data/reco.csv`. The index column should be correctly parsed too. This dataset contains the reconstructed neutrinos to each of the neutrino events in the other data file."
   ]
  },
  {
   "cell_type": "markdown",
   "metadata": {
    "slideshow": {
     "slide_type": "slide"
    }
   },
   "source": [
    "## Exercise 4\n",
    "\n",
    "Combine the `neutrinos` and `reco` `DataFrames`  into a single `DataFrame`. This way it will be easier to examine the MC and reconstruction parameters.\n",
    "\n",
    "Hint: `pd.concat()`"
   ]
  },
  {
   "cell_type": "markdown",
   "metadata": {
    "slideshow": {
     "slide_type": "slide"
    }
   },
   "source": [
    "## Exercise 5\n",
    "\n",
    "Create a plot to visualise the zenith reconstruction quality (true vs. reconstructed zenith).\n",
    "\n",
    "In case you did not complete exercise 4:\n",
    "\n",
    "    data = pd.concat([neutrinos reco.add_prefix('reco_')], axis=\"columns\")"
   ]
  },
  {
   "cell_type": "markdown",
   "metadata": {
    "slideshow": {
     "slide_type": "slide"
    }
   },
   "source": [
    "## Exercise 6\n",
    "\n",
    "Create a histogram of the cascade probabilities (__`neutrinos`__ dataset: `proba_cscd` column) for the energy ranges 1-5 GeV, 5-10 GeV, 10-20 GeV and 20-100 GeV.\n",
    "\n",
    "Hint: `pd.cut()`"
   ]
  },
  {
   "cell_type": "markdown",
   "metadata": {
    "slideshow": {
     "slide_type": "slide"
    }
   },
   "source": [
    "## Exercise 7\n",
    "\n",
    "Create a 2D histogram showing the distribution of the `x` and `y` values of the starting positions (`pos_x` and `pos_y`) of the neutrinos."
   ]
  },
  {
   "cell_type": "markdown",
   "metadata": {
    "slideshow": {
     "slide_type": "slide"
    }
   },
   "source": [
    "## Exercise 8\n",
    "\n",
    "Use `seaborn` (`import seaborn as sns`) to recreate the 2D histogram from Exercise 7. The functions `sns.displot()` or `sns.jointplot()` will be handy."
   ]
  },
  {
   "cell_type": "markdown",
   "metadata": {
    "slideshow": {
     "slide_type": "slide"
    }
   },
   "source": [
    "## Exercise 9\n",
    "\n",
    "Create two histograms of the `azimuth` and `zenith` distribution side by side, in one plot (two subplots).\n",
    "\n",
    "Try `pandas` built-in matplotlib wrapper and also the raw matplotlib library."
   ]
  },
  {
   "cell_type": "markdown",
   "metadata": {
    "slideshow": {
     "slide_type": "slide"
    }
   },
   "source": [
    "## Exercise 10\n",
    "\n",
    "Split the data into two groups: `upgoing` and `downgoing`, based on the `zenith` value (`zenith == 0` is coming directly from above, `zenith == π` from below).\n",
    "\n",
    "Try out `sns.stripplot` to verify your \"cut\" on the data!"
   ]
  },
  {
   "cell_type": "markdown",
   "metadata": {
    "slideshow": {
     "slide_type": "slide"
    }
   },
   "source": [
    "## Exercise 11\n",
    "\n",
    "Create a combined histogram (two histograms overlayed in the same plot) for both `upgoing` and `downgoing` datasets, showing the `zenith` angle."
   ]
  },
  {
   "cell_type": "markdown",
   "metadata": {
    "slideshow": {
     "slide_type": "slide"
    }
   },
   "source": [
    "## Exercise 12\n",
    "\n",
    "Read a KM3NeT Event File (`data/hits.h5`) and examine the PMT signals (`tot`) of the hits (mean, min, max) and also the earliest hit for each digital optical module (identified by `dom_id`) separately . Create a histogram of the `tot` distribution for each module. The function `pd.read_hdf()` is a good start. The dataset path inside the HDF5 file is `/hits`."
   ]
  },
  {
   "cell_type": "markdown",
   "metadata": {
    "slideshow": {
     "slide_type": "slide"
    }
   },
   "source": [
    "### Exercise: Create a histogram of all time differences between consecutive hits calculated on each DOM independently"
   ]
  },
  {
   "cell_type": "markdown",
   "metadata": {
    "slideshow": {
     "slide_type": "slide"
    }
   },
   "source": [
    "### Exercise: Examine the data for time differences below 50ns"
   ]
  },
  {
   "cell_type": "markdown",
   "metadata": {
    "slideshow": {
     "slide_type": "slide"
    }
   },
   "source": [
    "### Exercise: examine the hits on each PMT of each DOM\n",
    "\n",
    "Calculate the number of hits and the min/max/mean `tot` for each PMT on each DOM."
   ]
  }
 ],
 "metadata": {
  "celltoolbar": "Slideshow",
  "kernelspec": {
   "display_name": "escape2022",
   "language": "python",
   "name": "escape2022"
  },
  "language_info": {
   "codemirror_mode": {
    "name": "ipython",
    "version": 3
   },
   "file_extension": ".py",
   "mimetype": "text/x-python",
   "name": "python",
   "nbconvert_exporter": "python",
   "pygments_lexer": "ipython3",
   "version": "3.9.12"
  }
 },
 "nbformat": 4,
 "nbformat_minor": 4
}
